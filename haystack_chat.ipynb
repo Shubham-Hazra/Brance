{
 "cells": [
  {
   "cell_type": "code",
   "execution_count": 2,
   "metadata": {},
   "outputs": [
    {
     "name": "stderr",
     "output_type": "stream",
     "text": [
      "2023-06-04 22:33:32.800556: I tensorflow/core/platform/cpu_feature_guard.cc:193] This TensorFlow binary is optimized with oneAPI Deep Neural Network Library (oneDNN) to use the following CPU instructions in performance-critical operations:  AVX2 FMA\n",
      "To enable them in other operations, rebuild TensorFlow with the appropriate compiler flags.\n",
      "2023-06-04 22:33:33.463928: W tensorflow/compiler/xla/stream_executor/platform/default/dso_loader.cc:64] Could not load dynamic library 'libnvinfer.so.7'; dlerror: libnvinfer.so.7: cannot open shared object file: No such file or directory\n",
      "2023-06-04 22:33:33.463975: W tensorflow/compiler/xla/stream_executor/platform/default/dso_loader.cc:64] Could not load dynamic library 'libnvinfer_plugin.so.7'; dlerror: libnvinfer_plugin.so.7: cannot open shared object file: No such file or directory\n",
      "2023-06-04 22:33:33.463981: W tensorflow/compiler/tf2tensorrt/utils/py_utils.cc:38] TF-TRT Warning: Cannot dlopen some TensorRT libraries. If you would like to use Nvidia GPU with TensorRT, please make sure the missing libraries mentioned above are installed properly.\n"
     ]
    }
   ],
   "source": [
    "from dotenv import load_dotenv, find_dotenv\n",
    "import os\n",
    "load_dotenv(find_dotenv())\n",
    "import requests\n",
    "import xmltodict\n",
    "from bs4 import BeautifulSoup\n",
    "from haystack.pipelines import Pipeline\n",
    "from haystack.nodes import PreProcessor\n",
    "from haystack.document_stores import WeaviateDocumentStore, ElasticsearchDocumentStore\n",
    "from haystack.utils import print_answers\n",
    "from haystack.nodes import EmbeddingRetriever, DensePassageRetriever, MultihopEmbeddingRetriever, BM25Retriever, JoinDocuments, SentenceTransformersRanker\n",
    "from haystack.nodes.prompt import PromptTemplate\n",
    "from haystack.nodes import OpenAIAnswerGenerator\n",
    "from haystack.nodes import TransformersQueryClassifier, JoinAnswers, AnswerParser\n",
    "from haystack.nodes import FARMReader\n",
    "from haystack.nodes import PromptTemplate, PromptNode, PromptModel\n",
    "from qdrant_haystack.document_stores import QdrantDocumentStore\n",
    "import openai\n",
    "openai.api_key = os.getenv(\"OPENAI_API_KEY\")\n",
    "from pprint import pprint"
   ]
  },
  {
   "cell_type": "code",
   "execution_count": 3,
   "metadata": {},
   "outputs": [],
   "source": [
    "import requests\n",
    "import xmltodict\n",
    "from bs4 import BeautifulSoup\n",
    "\n",
    "HEADERS = {'User-Agent': 'Mozilla/5.0 (X11; Linux x86_64) AppleWebKit/537.36 (KHTML, like Gecko) Chrome/113.0.0.0 Safari/537.36'}\n",
    "\n",
    "def extract_text_from_url(url, headers = None):\n",
    "            if headers is None:\n",
    "                headers = HEADERS\n",
    "            html = requests.get(url,headers=headers).text\n",
    "            soup = BeautifulSoup(html, features=\"html.parser\")\n",
    "            text = soup.get_text()\n",
    "            lines = (line.strip() for line in text.splitlines())\n",
    "            return '\\n'.join(line for line in lines if line)\n",
    "\n",
    "def get_urls(sitemap_url, headers = None):\n",
    "            urls = []\n",
    "            if headers is None:\n",
    "                headers = HEADERS\n",
    "            sitemap = requests.get(sitemap_url,headers=headers).text\n",
    "            try:\n",
    "                sitemap = xmltodict.parse(sitemap)\n",
    "                if 'sitemapindex' in sitemap:\n",
    "                    sitemap = sitemap['sitemapindex']['sitemap']\n",
    "                    for entry in sitemap:\n",
    "                        urls += get_urls(entry['loc'])\n",
    "                else:\n",
    "                    sitemap = sitemap['urlset']['url']\n",
    "                    for entry in sitemap:\n",
    "                        urls.append(entry['loc'])\n",
    "            except:\n",
    "                print(f\"Error parsing sitemap {sitemap_url}\")\n",
    "            return urls\n",
    "\n",
    "def get_pages(urls):\n",
    "            pages = []\n",
    "            for url in urls:\n",
    "                try:\n",
    "                    pages.append({'text': extract_text_from_url(url), 'source': url})\n",
    "                except Exception as e:\n",
    "                    print(e)\n",
    "            return pages"
   ]
  },
  {
   "cell_type": "code",
   "execution_count": 4,
   "metadata": {},
   "outputs": [
    {
     "name": "stdout",
     "output_type": "stream",
     "text": [
      "Error parsing sitemap https://sbnri.com/sbnri-blog-definitions-sitemap.xml\n",
      "Error parsing sitemap https://sbnri.com/sbnri-blog-entertainment-and-lifestyle-2-sitemap.xml\n",
      "Error parsing sitemap https://sbnri.com/sbnri-blog-nri-bank-accounts-sitemap.xml\n",
      "Error parsing sitemap https://sbnri.com/sbnri-blog-nri-income-tax-sitemap.xml\n",
      "Error parsing sitemap https://sbnri.com/sbnri-blog-nri-investment-sitemap.xml\n",
      "Error parsing sitemap https://sbnri.com/sbnri-blog-passport-sitemap.xml\n",
      "Error parsing sitemap https://sbnri.com/sbnri-blog-real-estate-sitemap.xml\n",
      "Error parsing sitemap https://sbnri.com/sbnri-blog-visa-sitemap.xml\n",
      "Error parsing sitemap https://sbnri.com/sbnri-send-money-sitemap.xml\n"
     ]
    }
   ],
   "source": [
    "urls = get_urls(\"https://sbnri.com/sitemap.xml\")\n",
    "pages = get_pages(urls=urls)"
   ]
  },
  {
   "cell_type": "code",
   "execution_count": 5,
   "metadata": {},
   "outputs": [],
   "source": [
    "from haystack.schema import Document\n",
    "docs = []\n",
    "for page in pages:\n",
    "    document = Document(content=page['text'], meta={\"url\": page['source']},content_type=\"text\")\n",
    "    docs.append(document)"
   ]
  },
  {
   "cell_type": "code",
   "execution_count": 6,
   "metadata": {},
   "outputs": [
    {
     "data": {
      "application/vnd.jupyter.widget-view+json": {
       "model_id": "e74316a62c9e4192aa1656f77fe0ac54",
       "version_major": 2,
       "version_minor": 0
      },
      "text/plain": [
       "Preprocessing:   0%|          | 0/1680 [00:00<?, ?docs/s]"
      ]
     },
     "metadata": {},
     "output_type": "display_data"
    },
    {
     "name": "stderr",
     "output_type": "stream",
     "text": [
      "We found one or more sentences whose word count is higher than the split length.\n"
     ]
    }
   ],
   "source": [
    "preprocessor = PreProcessor(\n",
    "    clean_empty_lines=True,\n",
    "    clean_whitespace=True,\n",
    "    clean_header_footer=True,\n",
    "    split_by=\"word\",\n",
    "    split_length=200,\n",
    "    split_respect_sentence_boundary=True,\n",
    "    split_overlap=10\n",
    ")\n",
    "\n",
    "docs = preprocessor.process(docs)"
   ]
  },
  {
   "cell_type": "code",
   "execution_count": 20,
   "metadata": {},
   "outputs": [
    {
     "name": "stderr",
     "output_type": "stream",
     "text": [
      "/home/shubham/.local/lib/python3.10/site-packages/torch/_utils.py:776: UserWarning: TypedStorage is deprecated. It will be removed in the future and UntypedStorage will be the only storage class. This should only matter to you if you are using storages directly.  To access UntypedStorage directly, use tensor.untyped_storage() instead of tensor.storage()\n",
      "  return self.fget.__get__(instance, owner)()\n"
     ]
    }
   ],
   "source": [
    "document_store_1 = ElasticsearchDocumentStore(\n",
    "    index=\"bm25_sbnri\",\n",
    "    recreate_index=True,\n",
    ")\n",
    "\n",
    "document_store_2 = ElasticsearchDocumentStore(\n",
    "    index=\"openai_sbnri\",\n",
    "    embedding_dim=1536,\n",
    "    recreate_index=True,\n",
    ")\n",
    "document_store_3 = ElasticsearchDocumentStore(\n",
    "    index=\"multihop_sbnri\",\n",
    "    embedding_dim=384,\n",
    "    recreate_index=True,\n",
    ")\n",
    "document_store_4 = ElasticsearchDocumentStore(\n",
    "    index=\"dpr_sbnri\",\n",
    "    embedding_dim=768,\n",
    "    recreate_index=True,\n",
    ")\n",
    "\n",
    "bm25_retriever = BM25Retriever(document_store=document_store_1)\n",
    "\n",
    "openai_retriever = EmbeddingRetriever(\n",
    "   document_store=document_store_2,\n",
    "   batch_size=8,\n",
    "   embedding_model=\"text-embedding-ada-002\",\n",
    "   api_key=os.getenv(\"OPENAI_API_KEY\"),\n",
    "   max_seq_len=1536,\n",
    ")\n",
    "\n",
    "multihop_retriever = MultihopEmbeddingRetriever(\"sentence-transformers/all-MiniLM-L6-v2\",\n",
    "    document_store=document_store_3,model_format='sentence_transformers')\n",
    "\n",
    "dpr_retriever = DensePassageRetriever(\n",
    "    document_store=document_store_4,\n",
    "    query_embedding_model=\"facebook/dpr-question_encoder-single-nq-base\",\n",
    "    passage_embedding_model=\"facebook/dpr-ctx_encoder-single-nq-base\"\n",
    ")"
   ]
  },
  {
   "cell_type": "code",
   "execution_count": 21,
   "metadata": {},
   "outputs": [
    {
     "data": {
      "application/vnd.jupyter.widget-view+json": {
       "model_id": "c34ed0b4da104e03958f055e0506d01e",
       "version_major": 2,
       "version_minor": 0
      },
      "text/plain": [
       "Updating embeddings:   0%|          | 0/2140 [00:00<?, ? Docs/s]"
      ]
     },
     "metadata": {},
     "output_type": "display_data"
    },
    {
     "data": {
      "application/vnd.jupyter.widget-view+json": {
       "model_id": "93167fa2111849d0a155760843856181",
       "version_major": 2,
       "version_minor": 0
      },
      "text/plain": [
       "Calculating embeddings:   0%|          | 0/268 [00:00<?, ?it/s]"
      ]
     },
     "metadata": {},
     "output_type": "display_data"
    },
    {
     "data": {
      "application/vnd.jupyter.widget-view+json": {
       "model_id": "b5ed176a87f04864ae8d83442cf6f5cb",
       "version_major": 2,
       "version_minor": 0
      },
      "text/plain": [
       "Updating embeddings:   0%|          | 0/2140 [00:00<?, ? Docs/s]"
      ]
     },
     "metadata": {},
     "output_type": "display_data"
    },
    {
     "data": {
      "application/vnd.jupyter.widget-view+json": {
       "model_id": "d109d94313534c90b29c9513643dc48e",
       "version_major": 2,
       "version_minor": 0
      },
      "text/plain": [
       "Batches:   0%|          | 0/67 [00:00<?, ?it/s]"
      ]
     },
     "metadata": {},
     "output_type": "display_data"
    },
    {
     "data": {
      "application/vnd.jupyter.widget-view+json": {
       "model_id": "9be4470ee160461ebee820465c42ed36",
       "version_major": 2,
       "version_minor": 0
      },
      "text/plain": [
       "Updating embeddings:   0%|          | 0/2140 [00:00<?, ? Docs/s]"
      ]
     },
     "metadata": {},
     "output_type": "display_data"
    },
    {
     "data": {
      "application/vnd.jupyter.widget-view+json": {
       "model_id": "b675f6c7466442479cbecb06caa4e4fc",
       "version_major": 2,
       "version_minor": 0
      },
      "text/plain": [
       "Create embeddings:   0%|          | 0/2144 [00:00<?, ? Docs/s]"
      ]
     },
     "metadata": {},
     "output_type": "display_data"
    }
   ],
   "source": [
    "document_store_1.write_documents(docs)\n",
    "\n",
    "document_store_2.write_documents(docs)\n",
    "document_store_2.update_embeddings(openai_retriever)\n",
    "\n",
    "document_store_3.write_documents(docs)\n",
    "document_store_3.update_embeddings(multihop_retriever)\n",
    "\n",
    "document_store_4.write_documents(docs)\n",
    "document_store_4.update_embeddings(dpr_retriever)"
   ]
  },
  {
   "cell_type": "code",
   "execution_count": 9,
   "metadata": {},
   "outputs": [],
   "source": [
    "document_store_1 = ElasticsearchDocumentStore(index = \"bm25_sbnri\")\n",
    "document_store_2 = ElasticsearchDocumentStore(index = \"openai_sbnri\", embedding_dim=1536)\n",
    "document_store_3 = ElasticsearchDocumentStore(index = \"multihop_sbnri\", embedding_dim=384)\n",
    "document_store_4 = ElasticsearchDocumentStore(index = \"dpr_sbnri\", embedding_dim=768)"
   ]
  },
  {
   "cell_type": "code",
   "execution_count": 10,
   "metadata": {},
   "outputs": [],
   "source": [
    "bm25_retriever = BM25Retriever(document_store=document_store_1)\n",
    "\n",
    "openai_retriever = EmbeddingRetriever(\n",
    "   document_store=document_store_2,\n",
    "   batch_size=8,\n",
    "   embedding_model=\"text-embedding-ada-002\",\n",
    "   api_key=os.getenv(\"OPENAI_API_KEY\"),\n",
    "   max_seq_len=1536,\n",
    ")\n",
    "\n",
    "multihop_retriever = MultihopEmbeddingRetriever(\"sentence-transformers/all-MiniLM-L6-v2\",\n",
    "    document_store=document_store_3,model_format='sentence_transformers')\n",
    "\n",
    "dpr_retriever = DensePassageRetriever(\n",
    "    document_store=document_store_4,\n",
    "    query_embedding_model=\"facebook/dpr-question_encoder-single-nq-base\",\n",
    "    passage_embedding_model=\"facebook/dpr-ctx_encoder-single-nq-base\"\n",
    ")"
   ]
  },
  {
   "cell_type": "code",
   "execution_count": 11,
   "metadata": {},
   "outputs": [],
   "source": [
    "query_classifier = TransformersQueryClassifier()\n",
    "\n",
    "join_documents = JoinDocuments(\"merge\")\n",
    "\n",
    "ranker = SentenceTransformersRanker(model_name_or_path=\"cross-encoder/ms-marco-MiniLM-L-12-v2\")\n",
    "\n",
    "pipe = Pipeline()\n",
    "pipe.add_node(component=openai_retriever, name=\"OpenAIRetriever\", inputs=[\"Query\"])\n",
    "pipe.add_node(component=dpr_retriever, name=\"DPRRetriever\", inputs=[\"Query\"])\n",
    "pipe.add_node(component=multihop_retriever, name=\"MultihopRetriever\", inputs=[\"Query\"])\n",
    "pipe.add_node(component=bm25_retriever, name=\"BM25Retriever\", inputs=[\"Query\"])\n",
    "pipe.add_node(component=join_documents, name=\"JoinDocuments\", inputs=[\"OpenAIRetriever\",\"DPRRetriever\",\"MultihopRetriever\",\"BM25Retriever\"])\n",
    "pipe.add_node(component=ranker, name=\"Ranker\", inputs=[\"JoinDocuments\"])"
   ]
  },
  {
   "cell_type": "code",
   "execution_count": 12,
   "metadata": {},
   "outputs": [],
   "source": [
    "def get_context(query,pipe,return_docs = False,*args,**kwargs):\n",
    "    docs = pipe.run(query,*args, **kwargs)\n",
    "    context_string = \"\"\n",
    "    for document in docs['documents']:\n",
    "        context_string += document.content + '\\n' \n",
    "    if return_docs:\n",
    "        return (context_string,docs)\n",
    "    else:\n",
    "        return context_string"
   ]
  },
  {
   "cell_type": "code",
   "execution_count": 13,
   "metadata": {},
   "outputs": [],
   "source": [
    "params = {\"Ranker\": {\"top_k\":5}, \"OpenAIRetriever\": {\"top_k\":20}, \"DPRRetriever\": {\"top_k\":20}, \"MultihopRetriever\": {\"top_k\":20}, \"BM25Retriever\": {\"top_k\":20}}\n",
    "context_delimiter = \"####\"\n",
    "query_delimiter = \"````\""
   ]
  },
  {
   "cell_type": "code",
   "execution_count": 16,
   "metadata": {},
   "outputs": [
    {
     "data": {
      "application/vnd.jupyter.widget-view+json": {
       "model_id": "a89041a65bac4567951ac0d68493dd8f",
       "version_major": 2,
       "version_minor": 0
      },
      "text/plain": [
       "Calculating embeddings:   0%|          | 0/1 [00:00<?, ?it/s]"
      ]
     },
     "metadata": {},
     "output_type": "display_data"
    },
    {
     "data": {
      "application/vnd.jupyter.widget-view+json": {
       "model_id": "4120d2e18bd2400591823b536d3f4271",
       "version_major": 2,
       "version_minor": 0
      },
      "text/plain": [
       "Querying:   0%|          | 0/1 [00:00<?, ?it/s]"
      ]
     },
     "metadata": {},
     "output_type": "display_data"
    },
    {
     "data": {
      "application/vnd.jupyter.widget-view+json": {
       "model_id": "d6efba7590834f8aa2cb6d6f76861267",
       "version_major": 2,
       "version_minor": 0
      },
      "text/plain": [
       "Batches:   0%|          | 0/1 [00:00<?, ?it/s]"
      ]
     },
     "metadata": {},
     "output_type": "display_data"
    },
    {
     "data": {
      "application/vnd.jupyter.widget-view+json": {
       "model_id": "c5a73be6a22b48dfb5c70b2ca9723092",
       "version_major": 2,
       "version_minor": 0
      },
      "text/plain": [
       "Batches:   0%|          | 0/1 [00:00<?, ?it/s]"
      ]
     },
     "metadata": {},
     "output_type": "display_data"
    },
    {
     "name": "stdout",
     "output_type": "stream",
     "text": [
      "I apologize, but I'm not sure I understand your question. The context provided is about the SWIFT payment system used by financial institutions. Could you please provide more information or context about your question?\n"
     ]
    },
    {
     "data": {
      "application/vnd.jupyter.widget-view+json": {
       "model_id": "c32e5b89651b4ef0af5582f056f7e950",
       "version_major": 2,
       "version_minor": 0
      },
      "text/plain": [
       "Calculating embeddings:   0%|          | 0/1 [00:00<?, ?it/s]"
      ]
     },
     "metadata": {},
     "output_type": "display_data"
    },
    {
     "data": {
      "application/vnd.jupyter.widget-view+json": {
       "model_id": "dae17a00121247eb9312e30559c87f19",
       "version_major": 2,
       "version_minor": 0
      },
      "text/plain": [
       "Querying:   0%|          | 0/1 [00:00<?, ?it/s]"
      ]
     },
     "metadata": {},
     "output_type": "display_data"
    },
    {
     "data": {
      "application/vnd.jupyter.widget-view+json": {
       "model_id": "17dfd98bdc8a4e43a0fe5b6fa72ff63d",
       "version_major": 2,
       "version_minor": 0
      },
      "text/plain": [
       "Batches:   0%|          | 0/1 [00:00<?, ?it/s]"
      ]
     },
     "metadata": {},
     "output_type": "display_data"
    },
    {
     "data": {
      "application/vnd.jupyter.widget-view+json": {
       "model_id": "0d495c3c9508429fb4ff0948bca665fe",
       "version_major": 2,
       "version_minor": 0
      },
      "text/plain": [
       "Batches:   0%|          | 0/1 [00:00<?, ?it/s]"
      ]
     },
     "metadata": {},
     "output_type": "display_data"
    },
    {
     "name": "stdout",
     "output_type": "stream",
     "text": [
      "I apologize, but I'm not sure what you are referring to. Could you please provide more context or information about what you are trying to find out? This will help me better understand your question and provide an accurate response.\n"
     ]
    },
    {
     "data": {
      "application/vnd.jupyter.widget-view+json": {
       "model_id": "d5cd3ff8bb954256b9eda48b946c922e",
       "version_major": 2,
       "version_minor": 0
      },
      "text/plain": [
       "Calculating embeddings:   0%|          | 0/1 [00:00<?, ?it/s]"
      ]
     },
     "metadata": {},
     "output_type": "display_data"
    },
    {
     "data": {
      "application/vnd.jupyter.widget-view+json": {
       "model_id": "57900e47ca3b44339f4b1cff117fcb13",
       "version_major": 2,
       "version_minor": 0
      },
      "text/plain": [
       "Querying:   0%|          | 0/1 [00:00<?, ?it/s]"
      ]
     },
     "metadata": {},
     "output_type": "display_data"
    },
    {
     "data": {
      "application/vnd.jupyter.widget-view+json": {
       "model_id": "ca2b38b611154e5d82f13c81de6f2eaa",
       "version_major": 2,
       "version_minor": 0
      },
      "text/plain": [
       "Batches:   0%|          | 0/1 [00:00<?, ?it/s]"
      ]
     },
     "metadata": {},
     "output_type": "display_data"
    },
    {
     "data": {
      "application/vnd.jupyter.widget-view+json": {
       "model_id": "c5c80c833b10486793cf0b8d92cf6e60",
       "version_major": 2,
       "version_minor": 0
      },
      "text/plain": [
       "Batches:   0%|          | 0/1 [00:00<?, ?it/s]"
      ]
     },
     "metadata": {},
     "output_type": "display_data"
    },
    {
     "name": "stdout",
     "output_type": "stream",
     "text": [
      "Mutual funds are a type of investment where money is pooled from multiple investors to invest in a diverse range of financial instruments such as stocks, bonds, and other securities. These funds are managed by professional fund managers who use their expertise to allocate the pooled money into different investments. After deducting the required fees and expenses, the return on investment is distributed proportionally among the investors depending on their contribution to the fund. Mutual funds are flexible investment options and investors can enter and exit a mutual fund at any time. They are popular among Indian as well as Non-Resident Indian (NRI) investors as they offer high liquidity and diversification opportunities.\n"
     ]
    },
    {
     "data": {
      "application/vnd.jupyter.widget-view+json": {
       "model_id": "2f5096474c964e689c434d8d364ea1a8",
       "version_major": 2,
       "version_minor": 0
      },
      "text/plain": [
       "Calculating embeddings:   0%|          | 0/1 [00:00<?, ?it/s]"
      ]
     },
     "metadata": {},
     "output_type": "display_data"
    },
    {
     "data": {
      "application/vnd.jupyter.widget-view+json": {
       "model_id": "6eaf627b93814909a45b00a29cde49ee",
       "version_major": 2,
       "version_minor": 0
      },
      "text/plain": [
       "Querying:   0%|          | 0/1 [00:00<?, ?it/s]"
      ]
     },
     "metadata": {},
     "output_type": "display_data"
    },
    {
     "data": {
      "application/vnd.jupyter.widget-view+json": {
       "model_id": "0dc87d8107c8402ca2cf7407212a282e",
       "version_major": 2,
       "version_minor": 0
      },
      "text/plain": [
       "Batches:   0%|          | 0/1 [00:00<?, ?it/s]"
      ]
     },
     "metadata": {},
     "output_type": "display_data"
    },
    {
     "data": {
      "application/vnd.jupyter.widget-view+json": {
       "model_id": "e1a74181594b4f18aee67d039757f748",
       "version_major": 2,
       "version_minor": 0
      },
      "text/plain": [
       "Batches:   0%|          | 0/1 [00:00<?, ?it/s]"
      ]
     },
     "metadata": {},
     "output_type": "display_data"
    },
    {
     "name": "stdout",
     "output_type": "stream",
     "text": [
      "There are a variety of mutual funds available in the market that cater to different investment needs and risk appetite. Some good ones to consider are:\n",
      "\n",
      "1. SBI Bluechip Fund\n",
      "2. HDFC Equity Fund\n",
      "3. Mirae Asset Large Cap Fund\n",
      "4. Axis Focused 25 Fund\n",
      "5. ICICI Prudential Equity & Debt Fund\n",
      "\n",
      "It is important to note that past performance is not a guarantee of future results and it's always recommended to study the fund prospectus and underlying investments before investing in any mutual fund. Additionally, it's important to consider your investment goals, risk tolerance, and investment horizon when selecting a mutual fund.\n"
     ]
    }
   ],
   "source": [
    "messages=[{\"role\": \"system\", \"content\": \"\"}]\n",
    "while True:\n",
    "    user_input = input(\"Enter your query: \")\n",
    "    if user_input == \"exit\":\n",
    "        break\n",
    "    context = get_context(user_input,pipe,params = params)\n",
    "    system_prompt = f'''\n",
    "    You are a customer support guide representing SBNRI, a reputable online platform known for solving the banking needs of NRI's in India. \n",
    "    You are given some context which is enclosed by {context_delimiter} and a query which is enclosed by {query_delimiter}.\n",
    "    Your role is to assist customers by providing accurate information, offering helpful recommendations, and guiding them towards the solutions of their issues. \n",
    "    Feel free to ask clarifying questions only if needed, to better understand the customer's needs and preferences. \n",
    "    Leverage the provided context and information in the question itself to answer the question effectively without generating false or fictional information. \n",
    "    Double check your response for accuracy. Your responses should be short, friendly and humanlike.\n",
    "    Respond only to the following question using only the context and the information given in the question.\n",
    "    Only use your existing knowledge for generic information and not for specific information. Do not make up any figures or facts.\n",
    "    If you don't know the answer respond with \"May I connect you with an expert in this topic to discuss this in detail?\":\n",
    "\n",
    "    Context: \n",
    "    {context_delimiter} {context} {context_delimiter}\n",
    "\n",
    "    Remember, your expertise and helpfulness are key in assisting customers in making informed choices.'''\n",
    "    \n",
    "    messages[0]={\"role\": \"system\", \"content\": system_prompt}\n",
    "    messages.append({\"role\": \"user\", \"content\": f\"{query_delimiter}{user_input}{query_delimiter}\"})\n",
    "    completion = openai.ChatCompletion.create(\n",
    "    model=\"gpt-3.5-turbo\",\n",
    "    messages=messages,\n",
    "    temperature=0.9,\n",
    "    )\n",
    "    messages[-1] = {\"role\": \"user\", \"content\": f\"{user_input}\"}\n",
    "    messages.append({\"role\": \"assistant\", \"content\": completion.choices[0]['message']['content']})\n",
    "    print(completion.choices[0]['message']['content'])"
   ]
  }
 ],
 "metadata": {
  "kernelspec": {
   "display_name": "Python 3",
   "language": "python",
   "name": "python3"
  },
  "language_info": {
   "codemirror_mode": {
    "name": "ipython",
    "version": 3
   },
   "file_extension": ".py",
   "mimetype": "text/x-python",
   "name": "python",
   "nbconvert_exporter": "python",
   "pygments_lexer": "ipython3",
   "version": "3.10.6"
  },
  "orig_nbformat": 4
 },
 "nbformat": 4,
 "nbformat_minor": 2
}
