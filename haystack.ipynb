{
 "cells": [
  {
   "cell_type": "code",
   "execution_count": 73,
   "metadata": {},
   "outputs": [],
   "source": [
    "from dotenv import load_dotenv, find_dotenv\n",
    "import os\n",
    "load_dotenv(find_dotenv())\n",
    "import requests\n",
    "import xmltodict\n",
    "from bs4 import BeautifulSoup\n",
    "from haystack.pipelines import Pipeline\n",
    "from haystack.nodes import PreProcessor\n",
    "from haystack.document_stores import WeaviateDocumentStore, ElasticsearchDocumentStore\n",
    "from haystack.utils import print_answers\n",
    "from haystack.nodes import EmbeddingRetriever, DensePassageRetriever, MultihopEmbeddingRetriever, BM25Retriever, JoinDocuments, SentenceTransformersRanker\n",
    "from haystack.nodes.prompt import PromptTemplate\n",
    "from haystack.nodes import OpenAIAnswerGenerator\n",
    "from haystack.nodes import TransformersQueryClassifier, JoinAnswers, AnswerParser\n",
    "from haystack.nodes import FARMReader\n",
    "from haystack.nodes import PromptTemplate, PromptNode, PromptModel\n",
    "from qdrant_haystack.document_stores import QdrantDocumentStore\n",
    "import openai\n",
    "openai.api_key = os.getenv(\"OPENAI_API_KEY\")\n",
    "from pprint import pprint"
   ]
  },
  {
   "cell_type": "code",
   "execution_count": 74,
   "metadata": {},
   "outputs": [],
   "source": [
    "import requests\n",
    "import xmltodict\n",
    "from bs4 import BeautifulSoup\n",
    "\n",
    "HEADERS = {'User-Agent': 'Mozilla/5.0 (X11; Linux x86_64) AppleWebKit/537.36 (KHTML, like Gecko) Chrome/113.0.0.0 Safari/537.36'}\n",
    "\n",
    "def extract_text_from_url(url, headers = None):\n",
    "            if headers is None:\n",
    "                headers = HEADERS\n",
    "            html = requests.get(url,headers=headers).text\n",
    "            soup = BeautifulSoup(html, features=\"html.parser\")\n",
    "            text = soup.get_text()\n",
    "            lines = (line.strip() for line in text.splitlines())\n",
    "            return '\\n'.join(line for line in lines if line)\n",
    "\n",
    "def get_urls(sitemap_url, headers = None):\n",
    "            urls = []\n",
    "            if headers is None:\n",
    "                headers = HEADERS\n",
    "            sitemap = requests.get(sitemap_url,headers=headers).text\n",
    "            try:\n",
    "                sitemap = xmltodict.parse(sitemap)\n",
    "                if 'sitemapindex' in sitemap:\n",
    "                    sitemap = sitemap['sitemapindex']['sitemap']\n",
    "                    for entry in sitemap:\n",
    "                        urls += get_urls(entry['loc'])\n",
    "                else:\n",
    "                    sitemap = sitemap['urlset']['url']\n",
    "                    for entry in sitemap:\n",
    "                        urls.append(entry['loc'])\n",
    "            except:\n",
    "                print(f\"Error parsing sitemap {sitemap_url}\")\n",
    "            return urls\n",
    "\n",
    "def get_pages(urls):\n",
    "            pages = []\n",
    "            for url in urls:\n",
    "                try:\n",
    "                    pages.append({'text': extract_text_from_url(url), 'source': url})\n",
    "                except Exception as e:\n",
    "                    print(e)\n",
    "            return pages"
   ]
  },
  {
   "cell_type": "code",
   "execution_count": 75,
   "metadata": {},
   "outputs": [],
   "source": [
    "pages = get_pages([\"https://sbnri.com/blog/nri-mutual-fund\"])"
   ]
  },
  {
   "cell_type": "code",
   "execution_count": 76,
   "metadata": {},
   "outputs": [],
   "source": [
    "from haystack.schema import Document\n",
    "docs = []\n",
    "for page in pages:\n",
    "    document = Document(content=page['text'], meta={\"url\": page['source']},content_type=\"text\")\n",
    "    docs.append(document)"
   ]
  },
  {
   "cell_type": "code",
   "execution_count": 77,
   "metadata": {},
   "outputs": [
    {
     "data": {
      "application/vnd.jupyter.widget-view+json": {
       "model_id": "b54a9c02343e44b6a2d056c7c90673d3",
       "version_major": 2,
       "version_minor": 0
      },
      "text/plain": [
       "Preprocessing:   0%|          | 0/1 [00:00<?, ?docs/s]"
      ]
     },
     "metadata": {},
     "output_type": "display_data"
    },
    {
     "name": "stderr",
     "output_type": "stream",
     "text": [
      "We found one or more sentences whose word count is higher than the split length.\n"
     ]
    }
   ],
   "source": [
    "preprocessor = PreProcessor(\n",
    "    clean_empty_lines=True,\n",
    "    clean_whitespace=True,\n",
    "    clean_header_footer=True,\n",
    "    split_by=\"word\",\n",
    "    split_length=200,\n",
    "    split_respect_sentence_boundary=True,\n",
    "    split_overlap=10\n",
    ")\n",
    "\n",
    "docs = preprocessor.process(docs)"
   ]
  },
  {
   "cell_type": "code",
   "execution_count": 78,
   "metadata": {},
   "outputs": [],
   "source": [
    "document_store_1 = ElasticsearchDocumentStore(\n",
    "    index=\"bm25\",\n",
    "    recreate_index=True,\n",
    ")\n",
    "\n",
    "document_store_2 = ElasticsearchDocumentStore(\n",
    "    index=\"openai\",\n",
    "    embedding_dim=1536,\n",
    "    recreate_index=True,\n",
    ")\n",
    "document_store_3 = ElasticsearchDocumentStore(\n",
    "    index=\"multihop\",\n",
    "    embedding_dim=384,\n",
    "    recreate_index=True,\n",
    ")\n",
    "document_store_4 = ElasticsearchDocumentStore(\n",
    "    index=\"dpr\",\n",
    "    embedding_dim=768,\n",
    "    recreate_index=True,\n",
    ")\n",
    "\n",
    "bm25_retriever = BM25Retriever(document_store=document_store_1)\n",
    "\n",
    "openai_retriever = EmbeddingRetriever(\n",
    "   document_store=document_store_2,\n",
    "   batch_size=8,\n",
    "   embedding_model=\"text-embedding-ada-002\",\n",
    "   api_key=os.getenv(\"OPENAI_API_KEY\"),\n",
    "   max_seq_len=1536,\n",
    ")\n",
    "\n",
    "multihop_retriever = MultihopEmbeddingRetriever(\"sentence-transformers/all-MiniLM-L6-v2\",\n",
    "    document_store=document_store_3,model_format='sentence_transformers')\n",
    "\n",
    "dpr_retriever = DensePassageRetriever(\n",
    "    document_store=document_store_4,\n",
    "    query_embedding_model=\"facebook/dpr-question_encoder-single-nq-base\",\n",
    "    passage_embedding_model=\"facebook/dpr-ctx_encoder-single-nq-base\"\n",
    ")"
   ]
  },
  {
   "cell_type": "code",
   "execution_count": 79,
   "metadata": {},
   "outputs": [
    {
     "data": {
      "application/vnd.jupyter.widget-view+json": {
       "model_id": "7f9a4467b5514e2787cfb5f331dd603e",
       "version_major": 2,
       "version_minor": 0
      },
      "text/plain": [
       "Updating embeddings:   0%|          | 0/19 [00:00<?, ? Docs/s]"
      ]
     },
     "metadata": {},
     "output_type": "display_data"
    },
    {
     "data": {
      "application/vnd.jupyter.widget-view+json": {
       "model_id": "ef54fbb472d94a94bf4c49f32759f75c",
       "version_major": 2,
       "version_minor": 0
      },
      "text/plain": [
       "Calculating embeddings:   0%|          | 0/3 [00:00<?, ?it/s]"
      ]
     },
     "metadata": {},
     "output_type": "display_data"
    },
    {
     "data": {
      "application/vnd.jupyter.widget-view+json": {
       "model_id": "abb8d3b129b2420d9f5507f104abdffd",
       "version_major": 2,
       "version_minor": 0
      },
      "text/plain": [
       "Updating embeddings:   0%|          | 0/19 [00:00<?, ? Docs/s]"
      ]
     },
     "metadata": {},
     "output_type": "display_data"
    },
    {
     "data": {
      "application/vnd.jupyter.widget-view+json": {
       "model_id": "5a173246493642a4a326750db0eca014",
       "version_major": 2,
       "version_minor": 0
      },
      "text/plain": [
       "Batches:   0%|          | 0/1 [00:00<?, ?it/s]"
      ]
     },
     "metadata": {},
     "output_type": "display_data"
    },
    {
     "data": {
      "application/vnd.jupyter.widget-view+json": {
       "model_id": "58decd99fb884db99d99ff440ad945af",
       "version_major": 2,
       "version_minor": 0
      },
      "text/plain": [
       "Updating embeddings:   0%|          | 0/19 [00:00<?, ? Docs/s]"
      ]
     },
     "metadata": {},
     "output_type": "display_data"
    },
    {
     "data": {
      "application/vnd.jupyter.widget-view+json": {
       "model_id": "cf03bbe57f1e4f13a1826a177bad5c88",
       "version_major": 2,
       "version_minor": 0
      },
      "text/plain": [
       "Create embeddings:   0%|          | 0/32 [00:00<?, ? Docs/s]"
      ]
     },
     "metadata": {},
     "output_type": "display_data"
    }
   ],
   "source": [
    "document_store_1.write_documents(docs)\n",
    "\n",
    "document_store_2.write_documents(docs)\n",
    "document_store_2.update_embeddings(openai_retriever)\n",
    "\n",
    "document_store_3.write_documents(docs)\n",
    "document_store_3.update_embeddings(multihop_retriever)\n",
    "\n",
    "document_store_4.write_documents(docs)\n",
    "document_store_4.update_embeddings(dpr_retriever)"
   ]
  },
  {
   "cell_type": "code",
   "execution_count": 80,
   "metadata": {},
   "outputs": [],
   "source": [
    "document_store_1 = ElasticsearchDocumentStore(index = \"bm25\")\n",
    "document_store_2 = ElasticsearchDocumentStore(index = \"openai\", embedding_dim=1536)\n",
    "document_store_3 = ElasticsearchDocumentStore(index = \"multihop\", embedding_dim=384)\n",
    "document_store_4 = ElasticsearchDocumentStore(index = \"dpr\", embedding_dim=768)"
   ]
  },
  {
   "cell_type": "code",
   "execution_count": 81,
   "metadata": {},
   "outputs": [],
   "source": [
    "bm25_retriever = BM25Retriever(document_store=document_store_1)\n",
    "\n",
    "openai_retriever = EmbeddingRetriever(\n",
    "   document_store=document_store_2,\n",
    "   batch_size=8,\n",
    "   embedding_model=\"text-embedding-ada-002\",\n",
    "   api_key=os.getenv(\"OPENAI_API_KEY\"),\n",
    "   max_seq_len=1536,\n",
    ")\n",
    "\n",
    "multihop_retriever = MultihopEmbeddingRetriever(\"sentence-transformers/all-MiniLM-L6-v2\",\n",
    "    document_store=document_store_3,model_format='sentence_transformers')\n",
    "\n",
    "dpr_retriever = DensePassageRetriever(\n",
    "    document_store=document_store_4,\n",
    "    query_embedding_model=\"facebook/dpr-question_encoder-single-nq-base\",\n",
    "    passage_embedding_model=\"facebook/dpr-ctx_encoder-single-nq-base\"\n",
    ")"
   ]
  },
  {
   "cell_type": "code",
   "execution_count": 82,
   "metadata": {},
   "outputs": [],
   "source": [
    "query_classifier = TransformersQueryClassifier()\n",
    "\n",
    "join_documents = JoinDocuments(\"merge\")\n",
    "\n",
    "ranker = SentenceTransformersRanker(model_name_or_path=\"cross-encoder/ms-marco-MiniLM-L-12-v2\")\n",
    "\n",
    "pipe = Pipeline()\n",
    "pipe.add_node(component=openai_retriever, name=\"OpenAIRetriever\", inputs=[\"Query\"])\n",
    "pipe.add_node(component=dpr_retriever, name=\"DPRRetriever\", inputs=[\"Query\"])\n",
    "pipe.add_node(component=multihop_retriever, name=\"MultihopRetriever\", inputs=[\"Query\"])\n",
    "pipe.add_node(component=bm25_retriever, name=\"BM25Retriever\", inputs=[\"Query\"])\n",
    "pipe.add_node(component=join_documents, name=\"JoinDocuments\", inputs=[\"OpenAIRetriever\",\"DPRRetriever\",\"MultihopRetriever\",\"BM25Retriever\"])\n",
    "pipe.add_node(component=ranker, name=\"Ranker\", inputs=[\"JoinDocuments\"])"
   ]
  },
  {
   "cell_type": "code",
   "execution_count": 83,
   "metadata": {},
   "outputs": [
    {
     "data": {
      "application/vnd.jupyter.widget-view+json": {
       "model_id": "52d455987912464aa2da2b1d67347ded",
       "version_major": 2,
       "version_minor": 0
      },
      "text/plain": [
       "Calculating embeddings:   0%|          | 0/1 [00:00<?, ?it/s]"
      ]
     },
     "metadata": {},
     "output_type": "display_data"
    },
    {
     "data": {
      "application/vnd.jupyter.widget-view+json": {
       "model_id": "dc29aecd6ef24ae79bfd1f93c0a1cda6",
       "version_major": 2,
       "version_minor": 0
      },
      "text/plain": [
       "Querying:   0%|          | 0/1 [00:00<?, ?it/s]"
      ]
     },
     "metadata": {},
     "output_type": "display_data"
    },
    {
     "data": {
      "application/vnd.jupyter.widget-view+json": {
       "model_id": "e4369ffef7b0456a99aa71cd6459f6e3",
       "version_major": 2,
       "version_minor": 0
      },
      "text/plain": [
       "Batches:   0%|          | 0/1 [00:00<?, ?it/s]"
      ]
     },
     "metadata": {},
     "output_type": "display_data"
    },
    {
     "data": {
      "application/vnd.jupyter.widget-view+json": {
       "model_id": "4d1655dbea5e42ae9996ed5732c7522e",
       "version_major": 2,
       "version_minor": 0
      },
      "text/plain": [
       "Batches:   0%|          | 0/1 [00:00<?, ?it/s]"
      ]
     },
     "metadata": {},
     "output_type": "display_data"
    }
   ],
   "source": [
    "results = pipe.run(query=\"Can NRI invest in Indian mutual funds?\", params = {\"Ranker\": {\"top_k\":5}, \"OpenAIRetriever\": {\"top_k\":20}, \"DPRRetriever\": {\"top_k\":20}, \"MultihopRetriever\": {\"top_k\":20}, \"BM25Retriever\": {\"top_k\":20}})"
   ]
  },
  {
   "cell_type": "code",
   "execution_count": 84,
   "metadata": {},
   "outputs": [],
   "source": [
    "context_string = \"\"\n",
    "for document in results['documents']:\n",
    "    context_string += document.content + '\\n' "
   ]
  },
  {
   "cell_type": "code",
   "execution_count": 85,
   "metadata": {},
   "outputs": [
    {
     "name": "stdout",
     "output_type": "stream",
     "text": [
      "The simple answer is yes NRIs, as well as PIOs, can invest in Indian mutual funds provided they adhere to the regulations of the Foreign Exchange Management Act (FEMA). NRIs can invest in mutual funds in India on repatriation as well as a non-repatriation basis. However, there are only a few asset management companies (AMCs) that accept mutual fund applications from NRIs in the USA and Canada. So, NRIs from these countries must check when investing in Indian mutual funds. NRIs are offered most of the benefits and conveniences as resident investors while investing. They can invest in equity funds, debt funds, or hybrid funds depending on their investment goals and risk tolerance. NRIs can repatriate the redemption proceeds as and when they wish to. Benefits of mutual funds for NRIsIndia is one of the fastest growing major economies in the world, attracting staggering foreign investment. NRIs can also be a part of India’s growth and for non-resident individuals who have dependents in India, investment in mutual funds is an attractive proposition. Here are some of the key benefits that NRI mutual fund investors can enjoy by investing in Indian mutual funds. \n",
      "Here are some of the key benefits that NRI mutual fund investors can enjoy by investing in Indian mutual funds. Ease of investing and monitoring NRIs can invest in mutual funds and manage their portfolio online from the convenience of their home. NRI mutual fund investors can buy, redeem and switch units of different mutual fund schemes. They can also opt for systematic online transfers from one scheme to another and or withdraw online.     You don’t have to issue cheques, DDs, submit physical forms, or be present in India. You will also receive consolidated account statements (CAS) regularly through emails. Mutual fund houses also disclose their portfolio holdings online every month to keep their investors informed.How can NRI invest in Mutual Funds in India?There are certain requirements based on the guidelines of FEMA for being an NRI for doing the same which are:1. An NRE/NRO Bank Account: For an NRI, their funds can only be managed through the NRE or NRO Bank Accounts in India. Therefore, it is mandatory for an NRI to carry out investments in Mutual Fund using either of these accounts2. \n",
      "However, the investment procedure for NRIs is slightly different from that for resident Indians. Before investing in mutual funds in India, NRIs must know about the mutual fund schemes they can invest in, investment procedure, regulations and tax on capital gains. Here are the important details of the NRI mutual fund.What are mutual funds?Suppose there are four friends who want to buy a 12 piece box of chocolate priced at Rs.100/- but all of them have Rs.25/- only. They decide to pool their money and buy the box and then distribute 3 chocolates each based on their contribution. This is a very basic model on which Mutual Funds operate. The box of chocolate here is the fund and chocolates are units. You buy certain units of the fund which has a Net-Asset Value (NAV). The value of this NAV changes with time based on the fund’s growth resulting in your gains.Can NRI invest in Indian mutual funds?Can NRIs invest in mutual funds in India is a common question. The simple answer is yes NRIs, as well as PIOs, can invest in Indian mutual funds provided they adhere to the regulations of the Foreign Exchange Management Act (FEMA). \n",
      "Many Indians have been migrating to Australia for study and jobs over a couple of years. Indians in Australia, including NRIs and PIOs (Persons of Indian Origin), are eligible to apply for various financial and banking services in India, such as NRI bank accounts, investment in stocks, mutual funds and exchange-traded funds (ETFs), etc. However, unlike resident Indians, there are limited mutual funds for NRIs in Australia. NRIs who want to invest in mutual funds in India have to follow some important rules and guidelines in Foreign Exchange Management Act (FEMA).   How can NRI Invest in Mutual Funds in India? Manoj Negi on April 10, 202336,408 viewsThe Indian stock market is a great opportunity for NRIs to grow their wealth back in India. Although NRIs can invest in stocks directly if they have the expertise, investing through mutual funds is a smart and cost-effective solution for all types of investors. In this article, we will analyze how can NRI invest in mutual funds in India, along with the process and regulations.   Debt Funds are not Eligible for LTCG Tax Benefits from April-23 Manoj Negi on March 27, 2023406 viewsThe government introduced amendments to the Finance Bill 2023. \n",
      "Things NRIs should Keep in Mind When Investing in Mutual Funds SBNRI Team on April 26, 20239,577 viewsBefore a few years, NRIs would only invest in fixed deposits and real estate. Since India is on its way to becoming a superpower in the world economy, NRIs have already started exploring other investment options in India, such as mutual funds, liquid funds, direct equity, bonds and government securities, etc. Investing in mutual funds gives NRIs opportunities to build a diversified portfolio of equity and debt in India, their home country. The investment process is online, can be done at any time and from anywhere. Moreover, NRIs can easily offset the losses on one currency with the gains on the other, from the comfort of their home. As an NRI investor, you need to abide by certain limitations and rules for safe and profitable investment. Here are things NRIs should keep in mind when investing in mutual funds in India.   Top 10 Mutual Fund Companies in India for Investment in 2023 Manoj Negi on April 21, 2023335 viewsMutual funds are investment vehicles that pool money from multiple investors to invest in a diversified portfolio of stocks, bonds, and other securities. \n",
      "\n",
      "5814\n"
     ]
    }
   ],
   "source": [
    "print(context_string)\n",
    "print(len(context_string))"
   ]
  },
  {
   "cell_type": "code",
   "execution_count": 86,
   "metadata": {},
   "outputs": [],
   "source": [
    "completion = openai.ChatCompletion.create(\n",
    "  model=\"gpt-3.5-turbo\",\n",
    "  messages=[\n",
    "    {\"role\": \"user\", \"content\": f\"{context_string} given this context tell me Can NRI invest in Indian mutual funds?\"}\n",
    "  ]\n",
    ")"
   ]
  },
  {
   "cell_type": "code",
   "execution_count": 87,
   "metadata": {},
   "outputs": [
    {
     "data": {
      "text/plain": [
       "<OpenAIObject chat.completion id=chatcmpl-7Njjtp0L5mrGGuaDEikgQjKS5z3qF at 0x7f0f45dd7ba0> JSON: {\n",
       "  \"choices\": [\n",
       "    {\n",
       "      \"finish_reason\": \"stop\",\n",
       "      \"index\": 0,\n",
       "      \"message\": {\n",
       "        \"content\": \"Yes, NRIs can invest in Indian mutual funds as long as they adhere to the regulations of the Foreign Exchange Management Act (FEMA). They can invest in equity funds, debt funds, or hybrid funds based on their investment goals and risk tolerance. NRIs can manage their portfolio online from the convenience of their home and can opt for systematic online transfers from one scheme to another. NRIs must have an NRE or NRO bank account in India to invest in mutual funds and must know about the mutual fund schemes they can invest in, investment procedure, regulations, and tax on capital gains.\",\n",
       "        \"role\": \"assistant\"\n",
       "      }\n",
       "    }\n",
       "  ],\n",
       "  \"created\": 1685891721,\n",
       "  \"id\": \"chatcmpl-7Njjtp0L5mrGGuaDEikgQjKS5z3qF\",\n",
       "  \"model\": \"gpt-3.5-turbo-0301\",\n",
       "  \"object\": \"chat.completion\",\n",
       "  \"usage\": {\n",
       "    \"completion_tokens\": 119,\n",
       "    \"prompt_tokens\": 1244,\n",
       "    \"total_tokens\": 1363\n",
       "  }\n",
       "}"
      ]
     },
     "execution_count": 87,
     "metadata": {},
     "output_type": "execute_result"
    }
   ],
   "source": [
    "completion"
   ]
  },
  {
   "cell_type": "code",
   "execution_count": 88,
   "metadata": {},
   "outputs": [],
   "source": [
    "def get_context(query,pipe,return_docs = False,*args,**kwargs):\n",
    "    docs = pipe.run(query,*args, **kwargs)\n",
    "    context_string = \"\"\n",
    "    for document in docs['documents']:\n",
    "        context_string += document.content + '\\n' \n",
    "    if return_docs:\n",
    "        return (context_string,docs)\n",
    "    else:\n",
    "        return context_string"
   ]
  },
  {
   "cell_type": "code",
   "execution_count": 92,
   "metadata": {},
   "outputs": [
    {
     "data": {
      "application/vnd.jupyter.widget-view+json": {
       "model_id": "28adee57a99b450293898ce08446a285",
       "version_major": 2,
       "version_minor": 0
      },
      "text/plain": [
       "Calculating embeddings:   0%|          | 0/1 [00:00<?, ?it/s]"
      ]
     },
     "metadata": {},
     "output_type": "display_data"
    },
    {
     "data": {
      "application/vnd.jupyter.widget-view+json": {
       "model_id": "c8b8696d418140cba28b2e405c2239fd",
       "version_major": 2,
       "version_minor": 0
      },
      "text/plain": [
       "Querying:   0%|          | 0/1 [00:00<?, ?it/s]"
      ]
     },
     "metadata": {},
     "output_type": "display_data"
    },
    {
     "data": {
      "application/vnd.jupyter.widget-view+json": {
       "model_id": "6e34dc6cbbb8416e8efb913ccd984b4e",
       "version_major": 2,
       "version_minor": 0
      },
      "text/plain": [
       "Batches:   0%|          | 0/1 [00:00<?, ?it/s]"
      ]
     },
     "metadata": {},
     "output_type": "display_data"
    },
    {
     "data": {
      "application/vnd.jupyter.widget-view+json": {
       "model_id": "ec91f7167fb3484cba14588e9fc8da77",
       "version_major": 2,
       "version_minor": 0
      },
      "text/plain": [
       "Batches:   0%|          | 0/1 [00:00<?, ?it/s]"
      ]
     },
     "metadata": {},
     "output_type": "display_data"
    }
   ],
   "source": [
    "query = input(\"Enter an input: \")\n",
    "params = {\"Ranker\": {\"top_k\":5}, \"OpenAIRetriever\": {\"top_k\":20}, \"DPRRetriever\": {\"top_k\":20}, \"MultihopRetriever\": {\"top_k\":20}, \"BM25Retriever\": {\"top_k\":20}}\n",
    "context_delimiter = \"####\"\n",
    "query_delimiter = \"````\"\n",
    "context = get_context(query,pipe,params = params)\n",
    "message = f'''\n",
    "You are given some context which is enclosed by {context_delimiter} and a query which is enclosed by {query_delimiter}.\n",
    "Given the context try to answer the question as accurately as possibly without making up facts.\n",
    "\n",
    "Context = {context_delimiter}{context}{context_delimiter}\n",
    "\n",
    "Question = {query_delimiter}{query}{query_delimiter}\n",
    "'''\n",
    "completion = openai.ChatCompletion.create(\n",
    "  model=\"gpt-3.5-turbo\",\n",
    "  messages=[\n",
    "    {\"role\": \"user\", \"content\": message}\n",
    "  ]\n",
    ")"
   ]
  },
  {
   "cell_type": "code",
   "execution_count": 93,
   "metadata": {},
   "outputs": [
    {
     "data": {
      "text/plain": [
       "<OpenAIObject chat.completion id=chatcmpl-7Njkj9NekB4mfx3eJKJr91OrhpW4E at 0x7f0f2c3c4860> JSON: {\n",
       "  \"choices\": [\n",
       "    {\n",
       "      \"finish_reason\": \"stop\",\n",
       "      \"index\": 0,\n",
       "      \"message\": {\n",
       "        \"content\": \"Some good mutual funds to invest in for NRIs in Singapore, UAE-based NRIs, and NRIs in Australia are mentioned in the context, which include SBI mutual fund, HDFC mutual fund, ICICI prudential mutual fund, among others. However, for NRIs from the USA and Canada, the options for mutual fund investment in India can be limited.\",\n",
       "        \"role\": \"assistant\"\n",
       "      }\n",
       "    }\n",
       "  ],\n",
       "  \"created\": 1685891773,\n",
       "  \"id\": \"chatcmpl-7Njkj9NekB4mfx3eJKJr91OrhpW4E\",\n",
       "  \"model\": \"gpt-3.5-turbo-0301\",\n",
       "  \"object\": \"chat.completion\",\n",
       "  \"usage\": {\n",
       "    \"completion_tokens\": 75,\n",
       "    \"prompt_tokens\": 1281,\n",
       "    \"total_tokens\": 1356\n",
       "  }\n",
       "}"
      ]
     },
     "execution_count": 93,
     "metadata": {},
     "output_type": "execute_result"
    }
   ],
   "source": [
    "completion"
   ]
  },
  {
   "cell_type": "code",
   "execution_count": 98,
   "metadata": {},
   "outputs": [],
   "source": [
    "messages = [{\"role\": \"system\", \"content\": \"You are a helpful assistant\"}]\n",
    "\n",
    "def build_chat(user_input: str = \"\", asistant_input: str = \"\"):\n",
    "  if user_input != \"\":\n",
    "    messages.append({\"role\": \"user\", \"content\": user_input})\n",
    "  if asistant_input != \"\":\n",
    "    messages.append({\"role\": \"assistant\", \"content\": asistant_input})\n",
    "\n",
    "def chat(input: str):\n",
    "  build_chat(user_input=input)\n",
    "  completion = openai.ChatCompletion.create(\n",
    "  model=\"gpt-3.5-turbo\",\n",
    "  messages=messages\n",
    ")\n",
    "  chat_gpt_answer = completion.choices[0]['message']['content']\n",
    "  build_chat(asistant_input=chat_gpt_answer)\n",
    "  return chat_gpt_answer"
   ]
  },
  {
   "cell_type": "code",
   "execution_count": 99,
   "metadata": {},
   "outputs": [
    {
     "data": {
      "text/plain": [
       "\"Thank you! I'm here to help you in any way I can. Here are some possible suggestions for how I can assist you:\\n\\n1. Provide information on a particular topic or answer your questions\\n2. Help you with research or finding resources online\\n3. Set reminders or help you manage your schedule\\n4. Make suggestions or recommendations based on your preferences\\n5. Assist you with tasks or projects\\n6. Review and edit your work\\n7. Proofread your writing\\n8. Offer advice or support\\n9. Help you troubleshoot a problem\\n10. Provide entertainment or engage in conversation.\""
      ]
     },
     "execution_count": 99,
     "metadata": {},
     "output_type": "execute_result"
    }
   ],
   "source": [
    "chat(\"What are some good ones?\")"
   ]
  },
  {
   "cell_type": "code",
   "execution_count": 97,
   "metadata": {},
   "outputs": [
    {
     "data": {
      "text/plain": [
       "[{'role': 'system', 'content': 'You are a helpful assistant'},\n",
       " {'role': 'user', 'content': 'Can NRI invest in Indian mutual funds?'},\n",
       " {'role': 'assistant', 'content': 'Y'},\n",
       " {'role': 'user', 'content': 'What are some good ones?'},\n",
       " {'role': 'assistant', 'content': 'T'}]"
      ]
     },
     "execution_count": 97,
     "metadata": {},
     "output_type": "execute_result"
    }
   ],
   "source": [
    "messages"
   ]
  }
 ],
 "metadata": {
  "kernelspec": {
   "display_name": "Python 3",
   "language": "python",
   "name": "python3"
  },
  "language_info": {
   "codemirror_mode": {
    "name": "ipython",
    "version": 3
   },
   "file_extension": ".py",
   "mimetype": "text/x-python",
   "name": "python",
   "nbconvert_exporter": "python",
   "pygments_lexer": "ipython3",
   "version": "3.10.6"
  },
  "orig_nbformat": 4
 },
 "nbformat": 4,
 "nbformat_minor": 2
}
