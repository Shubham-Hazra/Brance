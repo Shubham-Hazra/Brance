{
 "cells": [
  {
   "cell_type": "code",
   "execution_count": null,
   "metadata": {},
   "outputs": [],
   "source": [
    "from chatbot import *"
   ]
  },
  {
   "cell_type": "code",
   "execution_count": null,
   "metadata": {},
   "outputs": [],
   "source": [
    "chatbot = Chatbot(temperature=0.3)\n",
    "chatbot.load_vector_store(collection_name=\"sbnri_full\",persist_directory=\"src/data/chroma\")"
   ]
  },
  {
   "cell_type": "code",
   "execution_count": null,
   "metadata": {},
   "outputs": [],
   "source": [
    "system_prompt = PromptTemplate.from_template('''\n",
    "You are a customer support guide representing SBNRI, a reputable online platform known for solving the banking needs of NRI's in India. \n",
    "Your role is to assist customers by providing accurate information, offering helpful recommendations, and guiding them towards the solutions of their issues. \n",
    "Feel free to ask clarifying questions only if needed, to better understand the customer's needs and preferences. \n",
    "Leverage the provided context and information in the question itself to answer the question effectively without generating false or fictional information. \n",
    "Double check your response for accuracy. Your responses should be short, friendly and humanlike.\n",
    "Respond only to the following question using only the context and the information given in the question.\n",
    "Only use your existing knowledge for generic information and not for specific information. Do not make up any figures or facts.\n",
    "If you don't know the answer respond with \"May I connect you with an expert in this topic to discuss this in detail?\":\n",
    "\n",
    "Context: \n",
    "{context}\n",
    "\n",
    "Question: {question}\n",
    "\n",
    "Remember, your expertise and helpfulness are key in assisting customers in making informed choices.'''\n",
    ")\n",
    "\n",
    "QUESTION_PROMPT = PromptTemplate.from_template(\"\"\"\n",
    "The following is a friendly conversation between a human and an AI. Given below is the summary of the conversation between them followed by a question from the human. \n",
    "Append the summary to the question without modifying them. Keep the structure as given below. DO NOT CHANGE ANYTHING.\n",
    "\n",
    "Conversation summary:\n",
    "{chat_history}\n",
    "\n",
    "Question: {question}\"\"\"\n",
    ")\n",
    "                                               \n",
    "chatbot.make_conversational_chain(system_prompt = system_prompt,k = 2,verbose= True)\n",
    "chatbot.launch()"
   ]
  }
 ],
 "metadata": {
  "kernelspec": {
   "display_name": "Python 3",
   "language": "python",
   "name": "python3"
  },
  "language_info": {
   "codemirror_mode": {
    "name": "ipython",
    "version": 3
   },
   "file_extension": ".py",
   "mimetype": "text/x-python",
   "name": "python",
   "nbconvert_exporter": "python",
   "pygments_lexer": "ipython3",
   "version": "3.10.6"
  },
  "orig_nbformat": 4
 },
 "nbformat": 4,
 "nbformat_minor": 2
}
